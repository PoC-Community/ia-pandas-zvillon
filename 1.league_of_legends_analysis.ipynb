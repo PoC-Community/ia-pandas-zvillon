{
 "cells": [
  {
   "cell_type": "markdown",
   "id": "384805b1",
   "metadata": {},
   "source": [
    "<img src=\"./image/data.png\"/>\n",
    "\n",
    "# Introduction #\n",
    "\n",
    "Welcome to this workshop, the objective of this workshop is to analyze data using pandas.\\\n",
    "For this we will use a dataset that represents competitive league of legends games in 2020.\n",
    "\n",
    "Data analysis is closely related to artificial intelligence.\\\n",
    "Indeed, when we want to set up an artificial intelligence model, we usually have raw data,\\\n",
    "to get good results it is important to work on these raw data, in order to obtain meaningful data.\n",
    "\n",
    "In this workshop:\n",
    "   - Data analysis.\n",
    "   - Data processing.\n",
    "   \n",
    "For this we will use the pandas library : [pandas](https://pandas.pydata.org/)"
   ]
  },
  {
   "cell_type": "markdown",
   "id": "688401cc",
   "metadata": {},
   "source": [
    "### Requirements\n",
    "\n",
    "Check that you have pandas installed, if not open your shell and run the command: `pip3 install pandas`\\\n",
    "Make sure you have the `matches2020.csv` file to start the workshop.\n",
    "\n",
    "In this workshop you will analyze a csv file.\\\n",
    "I strongly advise you not to use any loop (for, while ... ect)\\\n",
    "Indeed this workshop is made to be successful without the use of any loop,\\\n",
    "Read the documentation, search on the web, and come to the supervisors if you get stuck on a part for too long."
   ]
  },
  {
   "cell_type": "code",
   "execution_count": 1,
   "id": "f8b97516",
   "metadata": {},
   "outputs": [
    {
     "name": "stdout",
     "output_type": "stream",
     "text": [
      "1.league_of_legends_analysis.ipynb     \u001b[1m\u001b[36mimage\u001b[m\u001b[m\n",
      "2.video_games_data_visualisation.ipynb \u001b[1m\u001b[36mpandas-1.3.3\u001b[m\u001b[m\n",
      "README.md                              pandas.tar.gz\n",
      "datasets.zip\n"
     ]
    }
   ],
   "source": [
    "!ls"
   ]
  },
  {
   "cell_type": "markdown",
   "id": "602e0a6e",
   "metadata": {},
   "source": [
    "### Import\n",
    "\n",
    "To start, it is necessary to import `pandas`, we give it the alias `pd` to be able to use its methods more easily.\\\n",
    "If you don't know what a method is I advise you to start with the workshop : `python basics`"
   ]
  },
  {
   "cell_type": "code",
   "execution_count": 1,
   "id": "5496c943",
   "metadata": {},
   "outputs": [],
   "source": [
    "import pandas as pd"
   ]
  },
  {
   "cell_type": "markdown",
   "id": "8e7065a6",
   "metadata": {},
   "source": [
    "## Read & Verify\n",
    "\n",
    "Here we are at our first task, the difficulty will increase gradually.\n",
    "\n",
    "\n",
    "For now pandas needs to read the csv to be able to use it.\\\n",
    "You have to read the file : `matches2020.csv`\\\n",
    "Since it is the first task, here is the link of the function : [read_csv](https://pandas.pydata.org/pandas-docs/stable/reference/api/pandas.read_csv.html)\\\n",
    "For the next steps, I will let you search in the documentation: [documentation](https://pandas.pydata.org/docs/index.html)"
   ]
  },
  {
   "cell_type": "code",
   "execution_count": 2,
   "id": "28ec7b15",
   "metadata": {},
   "outputs": [
    {
     "ename": "FileNotFoundError",
     "evalue": "[Errno 2] No such file or directory: 'matches2020.csv'",
     "output_type": "error",
     "traceback": [
      "\u001b[0;31m---------------------------------------------------------------------------\u001b[0m",
      "\u001b[0;31mFileNotFoundError\u001b[0m                         Traceback (most recent call last)",
      "\u001b[1;32m/Users/vzhang/Project/workshop/ia-pandas-zvillon/1.league_of_legends_analysis.ipynb Cellule 7\u001b[0m line \u001b[0;36m4\n\u001b[1;32m      <a href='vscode-notebook-cell:/Users/vzhang/Project/workshop/ia-pandas-zvillon/1.league_of_legends_analysis.ipynb#W6sZmlsZQ%3D%3D?line=0'>1</a>\u001b[0m \u001b[39m#read the file : matches2020.csv with the function read_csv\u001b[39;00m\n\u001b[1;32m      <a href='vscode-notebook-cell:/Users/vzhang/Project/workshop/ia-pandas-zvillon/1.league_of_legends_analysis.ipynb#W6sZmlsZQ%3D%3D?line=2'>3</a>\u001b[0m data \u001b[39m=\u001b[39m \u001b[39m\"\u001b[39m\u001b[39mmatches2020.csv\u001b[39m\u001b[39m\"\u001b[39m\n\u001b[0;32m----> <a href='vscode-notebook-cell:/Users/vzhang/Project/workshop/ia-pandas-zvillon/1.league_of_legends_analysis.ipynb#W6sZmlsZQ%3D%3D?line=3'>4</a>\u001b[0m pd\u001b[39m.\u001b[39;49mread_csv(data)\n",
      "File \u001b[0;32m~/Project/workshop/ia-pandas-zvillon/.venv/lib/python3.12/site-packages/pandas/io/parsers/readers.py:948\u001b[0m, in \u001b[0;36mread_csv\u001b[0;34m(filepath_or_buffer, sep, delimiter, header, names, index_col, usecols, dtype, engine, converters, true_values, false_values, skipinitialspace, skiprows, skipfooter, nrows, na_values, keep_default_na, na_filter, verbose, skip_blank_lines, parse_dates, infer_datetime_format, keep_date_col, date_parser, date_format, dayfirst, cache_dates, iterator, chunksize, compression, thousands, decimal, lineterminator, quotechar, quoting, doublequote, escapechar, comment, encoding, encoding_errors, dialect, on_bad_lines, delim_whitespace, low_memory, memory_map, float_precision, storage_options, dtype_backend)\u001b[0m\n\u001b[1;32m    935\u001b[0m kwds_defaults \u001b[39m=\u001b[39m _refine_defaults_read(\n\u001b[1;32m    936\u001b[0m     dialect,\n\u001b[1;32m    937\u001b[0m     delimiter,\n\u001b[0;32m   (...)\u001b[0m\n\u001b[1;32m    944\u001b[0m     dtype_backend\u001b[39m=\u001b[39mdtype_backend,\n\u001b[1;32m    945\u001b[0m )\n\u001b[1;32m    946\u001b[0m kwds\u001b[39m.\u001b[39mupdate(kwds_defaults)\n\u001b[0;32m--> 948\u001b[0m \u001b[39mreturn\u001b[39;00m _read(filepath_or_buffer, kwds)\n",
      "File \u001b[0;32m~/Project/workshop/ia-pandas-zvillon/.venv/lib/python3.12/site-packages/pandas/io/parsers/readers.py:611\u001b[0m, in \u001b[0;36m_read\u001b[0;34m(filepath_or_buffer, kwds)\u001b[0m\n\u001b[1;32m    608\u001b[0m _validate_names(kwds\u001b[39m.\u001b[39mget(\u001b[39m\"\u001b[39m\u001b[39mnames\u001b[39m\u001b[39m\"\u001b[39m, \u001b[39mNone\u001b[39;00m))\n\u001b[1;32m    610\u001b[0m \u001b[39m# Create the parser.\u001b[39;00m\n\u001b[0;32m--> 611\u001b[0m parser \u001b[39m=\u001b[39m TextFileReader(filepath_or_buffer, \u001b[39m*\u001b[39;49m\u001b[39m*\u001b[39;49mkwds)\n\u001b[1;32m    613\u001b[0m \u001b[39mif\u001b[39;00m chunksize \u001b[39mor\u001b[39;00m iterator:\n\u001b[1;32m    614\u001b[0m     \u001b[39mreturn\u001b[39;00m parser\n",
      "File \u001b[0;32m~/Project/workshop/ia-pandas-zvillon/.venv/lib/python3.12/site-packages/pandas/io/parsers/readers.py:1448\u001b[0m, in \u001b[0;36mTextFileReader.__init__\u001b[0;34m(self, f, engine, **kwds)\u001b[0m\n\u001b[1;32m   1445\u001b[0m     \u001b[39mself\u001b[39m\u001b[39m.\u001b[39moptions[\u001b[39m\"\u001b[39m\u001b[39mhas_index_names\u001b[39m\u001b[39m\"\u001b[39m] \u001b[39m=\u001b[39m kwds[\u001b[39m\"\u001b[39m\u001b[39mhas_index_names\u001b[39m\u001b[39m\"\u001b[39m]\n\u001b[1;32m   1447\u001b[0m \u001b[39mself\u001b[39m\u001b[39m.\u001b[39mhandles: IOHandles \u001b[39m|\u001b[39m \u001b[39mNone\u001b[39;00m \u001b[39m=\u001b[39m \u001b[39mNone\u001b[39;00m\n\u001b[0;32m-> 1448\u001b[0m \u001b[39mself\u001b[39m\u001b[39m.\u001b[39m_engine \u001b[39m=\u001b[39m \u001b[39mself\u001b[39;49m\u001b[39m.\u001b[39;49m_make_engine(f, \u001b[39mself\u001b[39;49m\u001b[39m.\u001b[39;49mengine)\n",
      "File \u001b[0;32m~/Project/workshop/ia-pandas-zvillon/.venv/lib/python3.12/site-packages/pandas/io/parsers/readers.py:1705\u001b[0m, in \u001b[0;36mTextFileReader._make_engine\u001b[0;34m(self, f, engine)\u001b[0m\n\u001b[1;32m   1703\u001b[0m     \u001b[39mif\u001b[39;00m \u001b[39m\"\u001b[39m\u001b[39mb\u001b[39m\u001b[39m\"\u001b[39m \u001b[39mnot\u001b[39;00m \u001b[39min\u001b[39;00m mode:\n\u001b[1;32m   1704\u001b[0m         mode \u001b[39m+\u001b[39m\u001b[39m=\u001b[39m \u001b[39m\"\u001b[39m\u001b[39mb\u001b[39m\u001b[39m\"\u001b[39m\n\u001b[0;32m-> 1705\u001b[0m \u001b[39mself\u001b[39m\u001b[39m.\u001b[39mhandles \u001b[39m=\u001b[39m get_handle(\n\u001b[1;32m   1706\u001b[0m     f,\n\u001b[1;32m   1707\u001b[0m     mode,\n\u001b[1;32m   1708\u001b[0m     encoding\u001b[39m=\u001b[39;49m\u001b[39mself\u001b[39;49m\u001b[39m.\u001b[39;49moptions\u001b[39m.\u001b[39;49mget(\u001b[39m\"\u001b[39;49m\u001b[39mencoding\u001b[39;49m\u001b[39m\"\u001b[39;49m, \u001b[39mNone\u001b[39;49;00m),\n\u001b[1;32m   1709\u001b[0m     compression\u001b[39m=\u001b[39;49m\u001b[39mself\u001b[39;49m\u001b[39m.\u001b[39;49moptions\u001b[39m.\u001b[39;49mget(\u001b[39m\"\u001b[39;49m\u001b[39mcompression\u001b[39;49m\u001b[39m\"\u001b[39;49m, \u001b[39mNone\u001b[39;49;00m),\n\u001b[1;32m   1710\u001b[0m     memory_map\u001b[39m=\u001b[39;49m\u001b[39mself\u001b[39;49m\u001b[39m.\u001b[39;49moptions\u001b[39m.\u001b[39;49mget(\u001b[39m\"\u001b[39;49m\u001b[39mmemory_map\u001b[39;49m\u001b[39m\"\u001b[39;49m, \u001b[39mFalse\u001b[39;49;00m),\n\u001b[1;32m   1711\u001b[0m     is_text\u001b[39m=\u001b[39;49mis_text,\n\u001b[1;32m   1712\u001b[0m     errors\u001b[39m=\u001b[39;49m\u001b[39mself\u001b[39;49m\u001b[39m.\u001b[39;49moptions\u001b[39m.\u001b[39;49mget(\u001b[39m\"\u001b[39;49m\u001b[39mencoding_errors\u001b[39;49m\u001b[39m\"\u001b[39;49m, \u001b[39m\"\u001b[39;49m\u001b[39mstrict\u001b[39;49m\u001b[39m\"\u001b[39;49m),\n\u001b[1;32m   1713\u001b[0m     storage_options\u001b[39m=\u001b[39;49m\u001b[39mself\u001b[39;49m\u001b[39m.\u001b[39;49moptions\u001b[39m.\u001b[39;49mget(\u001b[39m\"\u001b[39;49m\u001b[39mstorage_options\u001b[39;49m\u001b[39m\"\u001b[39;49m, \u001b[39mNone\u001b[39;49;00m),\n\u001b[1;32m   1714\u001b[0m )\n\u001b[1;32m   1715\u001b[0m \u001b[39massert\u001b[39;00m \u001b[39mself\u001b[39m\u001b[39m.\u001b[39mhandles \u001b[39mis\u001b[39;00m \u001b[39mnot\u001b[39;00m \u001b[39mNone\u001b[39;00m\n\u001b[1;32m   1716\u001b[0m f \u001b[39m=\u001b[39m \u001b[39mself\u001b[39m\u001b[39m.\u001b[39mhandles\u001b[39m.\u001b[39mhandle\n",
      "File \u001b[0;32m~/Project/workshop/ia-pandas-zvillon/.venv/lib/python3.12/site-packages/pandas/io/common.py:863\u001b[0m, in \u001b[0;36mget_handle\u001b[0;34m(path_or_buf, mode, encoding, compression, memory_map, is_text, errors, storage_options)\u001b[0m\n\u001b[1;32m    858\u001b[0m \u001b[39melif\u001b[39;00m \u001b[39misinstance\u001b[39m(handle, \u001b[39mstr\u001b[39m):\n\u001b[1;32m    859\u001b[0m     \u001b[39m# Check whether the filename is to be opened in binary mode.\u001b[39;00m\n\u001b[1;32m    860\u001b[0m     \u001b[39m# Binary mode does not support 'encoding' and 'newline'.\u001b[39;00m\n\u001b[1;32m    861\u001b[0m     \u001b[39mif\u001b[39;00m ioargs\u001b[39m.\u001b[39mencoding \u001b[39mand\u001b[39;00m \u001b[39m\"\u001b[39m\u001b[39mb\u001b[39m\u001b[39m\"\u001b[39m \u001b[39mnot\u001b[39;00m \u001b[39min\u001b[39;00m ioargs\u001b[39m.\u001b[39mmode:\n\u001b[1;32m    862\u001b[0m         \u001b[39m# Encoding\u001b[39;00m\n\u001b[0;32m--> 863\u001b[0m         handle \u001b[39m=\u001b[39m \u001b[39mopen\u001b[39;49m(\n\u001b[1;32m    864\u001b[0m             handle,\n\u001b[1;32m    865\u001b[0m             ioargs\u001b[39m.\u001b[39;49mmode,\n\u001b[1;32m    866\u001b[0m             encoding\u001b[39m=\u001b[39;49mioargs\u001b[39m.\u001b[39;49mencoding,\n\u001b[1;32m    867\u001b[0m             errors\u001b[39m=\u001b[39;49merrors,\n\u001b[1;32m    868\u001b[0m             newline\u001b[39m=\u001b[39;49m\u001b[39m\"\u001b[39;49m\u001b[39m\"\u001b[39;49m,\n\u001b[1;32m    869\u001b[0m         )\n\u001b[1;32m    870\u001b[0m     \u001b[39melse\u001b[39;00m:\n\u001b[1;32m    871\u001b[0m         \u001b[39m# Binary mode\u001b[39;00m\n\u001b[1;32m    872\u001b[0m         handle \u001b[39m=\u001b[39m \u001b[39mopen\u001b[39m(handle, ioargs\u001b[39m.\u001b[39mmode)\n",
      "\u001b[0;31mFileNotFoundError\u001b[0m: [Errno 2] No such file or directory: 'matches2020.csv'"
     ]
    }
   ],
   "source": [
    "#read the file : matches2020.csv with the function read_csv\n",
    "\n",
    "data = \"datasets/matches2020.csv\"\n",
    "pd.read_csv(data)"
   ]
  },
  {
   "cell_type": "markdown",
   "id": "83ff96c8",
   "metadata": {},
   "source": [
    "Congratulations, you have successfully completed the first task,\n",
    "\n",
    "\n",
    "The second task is to display the dataframe using the [head](https://pandas.pydata.org/docs/reference/api/pandas.DataFrame.head.html) method.\\\n",
    "head will by default display the first 5 lines if you don't set any parameters."
   ]
  },
  {
   "cell_type": "code",
   "execution_count": 5,
   "id": "b8ec62b6",
   "metadata": {},
   "outputs": [],
   "source": [
    "# Use the head method"
   ]
  },
  {
   "cell_type": "markdown",
   "id": "b9ef744c",
   "metadata": {},
   "source": [
    "**Expected output:** \\\n",
    "<img src=\"./image/head_result.png\"/>"
   ]
  },
  {
   "cell_type": "markdown",
   "id": "e65be67e",
   "metadata": {},
   "source": [
    "### Dataset length\n",
    "\n",
    "We can observe that indeed our dataset contains information about competitive league of legends games in 2020.\\\n",
    "I will describe the different columns :\n",
    "- the **id** of the game,\n",
    "- the **league**, in league of legends the competition is divided in different regional leagues,\\\n",
    "especially the LFL which is the french league and the LEC which is the european league.\n",
    "- the **name** of the blue team,\n",
    "- the **name** of the red team,\n",
    "- in a game of league of legends there are 5 different roles, \\\n",
    "the **top**, the **mid**, the **jungle**, the **adc** and the **support**, to each role corresponds its champion pool.\n",
    "- the result, equal to 1 if the blue team wins otherwise equal to 0\n",
    "\n",
    "You have to return the total number of games of the dataset."
   ]
  },
  {
   "cell_type": "code",
   "execution_count": 24,
   "id": "0ee878fa",
   "metadata": {},
   "outputs": [],
   "source": [
    "#return the number of games\n",
    "\n",
    "def number_of_games(df):\n"
   ]
  },
  {
   "cell_type": "code",
   "execution_count": 25,
   "id": "57f408f6",
   "metadata": {},
   "outputs": [
    {
     "data": {
      "text/plain": [
       "'matches2020.csv'"
      ]
     },
     "execution_count": 25,
     "metadata": {},
     "output_type": "execute_result"
    }
   ],
   "source": [
    "number_of_games(data)"
   ]
  },
  {
   "cell_type": "markdown",
   "id": "4a03dea3",
   "metadata": {},
   "source": [
    "**Expected output :** `5612`\n"
   ]
  },
  {
   "cell_type": "markdown",
   "id": "2e252523",
   "metadata": {},
   "source": [
    "The LFL is the French league, teams like Vitality or LDLC play there. \\\n",
    "you will need to return the number of competitive games in the LFL in 2020.\n",
    "\n",
    "Try to create a variable that retrieves only the games where the League column is equal to `LFL`,\\\n",
    "then apply the same method as before."
   ]
  },
  {
   "cell_type": "code",
   "execution_count": null,
   "id": "2599646b",
   "metadata": {},
   "outputs": [],
   "source": [
    "#return the number of games in LFL\n",
    "\n",
    "def number_of_games_lfl(df):\n",
    "    return None"
   ]
  },
  {
   "cell_type": "code",
   "execution_count": null,
   "id": "5e044081",
   "metadata": {},
   "outputs": [],
   "source": [
    "number_of_games_lfl(data)"
   ]
  },
  {
   "cell_type": "markdown",
   "id": "b15a2a3e",
   "metadata": {},
   "source": [
    "**Expected output :** `129`"
   ]
  },
  {
   "cell_type": "markdown",
   "id": "3eba9b27",
   "metadata": {},
   "source": [
    "### Winrate\n",
    "\n",
    "Bravo, you managed to get the parts of LFL and to count them\n",
    "\n",
    "Let's go to the next level, \\\n",
    "In league of legends, the map has a blue side and a red side,\\\n",
    "the goal of the red team is to destroy the base on the blue side while the blue team must destroy the base on the red side.\\\n",
    "There is a rumor that being on the blue side gives an advantage to the team, check this rumor.\n",
    "\n",
    "try to calculate the winrate of a team when it is on the `red` side.\\\n",
    "Don't forget that when the red team loses, the `result` is 1 and when it wins, the `result` is 0."
   ]
  },
  {
   "cell_type": "code",
   "execution_count": null,
   "id": "3e1453f6",
   "metadata": {},
   "outputs": [],
   "source": [
    "#Calculate redsite winrate\n",
    "\n",
    "def redside_winrate(df):\n",
    "    return None"
   ]
  },
  {
   "cell_type": "code",
   "execution_count": null,
   "id": "a8bd24ed",
   "metadata": {},
   "outputs": [],
   "source": [
    "redside_winrate(data)"
   ]
  },
  {
   "cell_type": "markdown",
   "id": "ed43f2af",
   "metadata": {},
   "source": [
    "**Expected output :** `0.4718460441910192`"
   ]
  },
  {
   "cell_type": "markdown",
   "id": "c331fd10",
   "metadata": {},
   "source": [
    "### List without duplicates\n",
    "\n",
    "Well done.\\\n",
    "But one question is on my mind.\\\n",
    "Which teams are in the French League of Legends (LFL)?\\\n",
    "List the LFL teams without duplicates"
   ]
  },
  {
   "cell_type": "code",
   "execution_count": null,
   "id": "a9ff15bd",
   "metadata": {},
   "outputs": [],
   "source": [
    "#return the list of LFL teams without duplicates\n",
    "\n",
    "def list_equip_lfl(df):\n",
    "    return None"
   ]
  },
  {
   "cell_type": "code",
   "execution_count": null,
   "id": "58bdc608",
   "metadata": {},
   "outputs": [],
   "source": [
    "list_equip_lfl(data)"
   ]
  },
  {
   "cell_type": "markdown",
   "id": "9903527a",
   "metadata": {},
   "source": [
    "**Expected output :** ```array(['Misfits Premier', 'GameWard', 'Solary', 'Vitality.Bee', 'GamersOrigin', 'LDLC OL', 'Team MCES', 'IZI Dream'], dtype=object)```"
   ]
  },
  {
   "cell_type": "markdown",
   "id": "451648c4",
   "metadata": {},
   "source": [
    "### Recurrent value\n",
    "\n",
    "Well done, it looks like there were 8 teams in the LFL in 2020.\n",
    "\n",
    "League of Legends is a game where the meta changes regularly,\\\n",
    "every year some champions dominate the game,\\\n",
    "The few games I played, I played the mid role.\\\n",
    "Which champion has been playing the most in mid. \\\n",
    "What is the value that appears the most in the columns: `bluemid` and `redmid` ?"
   ]
  },
  {
   "cell_type": "code",
   "execution_count": null,
   "id": "322fcca9",
   "metadata": {},
   "outputs": [],
   "source": [
    "#return the name of the champion who is the most played in midlane\n",
    "\n",
    "def top_pick_mid(df):\n",
    "    return None"
   ]
  },
  {
   "cell_type": "code",
   "execution_count": null,
   "id": "203583fb",
   "metadata": {},
   "outputs": [],
   "source": [
    "top_pick_mid(data)"
   ]
  },
  {
   "cell_type": "markdown",
   "id": "47c9f209",
   "metadata": {},
   "source": [
    "**Expected output :** `'Zoe'`"
   ]
  },
  {
   "cell_type": "markdown",
   "id": "1f4d103b",
   "metadata": {},
   "source": [
    "Ah Zoé,\\\n",
    "The famous bubbles that, when they touch you, make you wake up at your fountain.\n",
    "\n",
    "More seriously, Zoé seems to have been extremely played in the mid.\\\n",
    "But all roles taken together,which are the 5 champions who have been the most played.\n",
    "\n",
    "To do this look at the 5 roles of both teams to see which value appears the most : \\\n",
    "`bluetop`, `bluejungle`, `bluemid`, `blueadc`, `bluesupport`, `redtop`, `redjungle`, `redmid`, `redadc`, `redsupport`.\n",
    "\n",
    "Good luck!"
   ]
  },
  {
   "cell_type": "code",
   "execution_count": 28,
   "id": "86632693",
   "metadata": {},
   "outputs": [],
   "source": [
    "#return the five most played champions (top, mid, jungle, adc, support)\n",
    "\n",
    "def ranking_all_pick(df):\n",
    "    frames = [data[\"bluemid\"], data[\"redmid\"], data[\"redtop\"], data[\"bleutop\"], data[\"redjungle\"], data[\"bluejungle\"], data[\"redadc\"], data[\"blueadc\"], data[\"redsupport\"], data[\"bluesupport\"]]\n",
    "    return pd.concat(frames).value_counts()[:5].index.tolist()"
   ]
  },
  {
   "cell_type": "code",
   "execution_count": null,
   "id": "66a21821",
   "metadata": {},
   "outputs": [],
   "source": [
    "ranking_all_pick(data).head()"
   ]
  },
  {
   "cell_type": "markdown",
   "id": "897641ac",
   "metadata": {},
   "source": [
    "**Expected output :** \n",
    "\n",
    "`Aphelios    2147\n",
    " Nautilus    2084\n",
    " Sett        1816\n",
    " Thresh      1730\n",
    " Ornn        1700\n",
    " dtype: int64`"
   ]
  },
  {
   "cell_type": "markdown",
   "id": "7e723972",
   "metadata": {},
   "source": [
    "### Winrate in LEC\n",
    "\n",
    "Zoë is finally not even in the top 5 most played champions, maybe she was ban most of the time.\\\n",
    "Aphelios seems to have dominated the summoner's rift.\n",
    "\n",
    "The LEC is the European league one rank above the LFL, the dream of every European player. \\\n",
    "I wonder which team was able to dominate this league.\\\n",
    "List the different teams in the LEC league and their number of wins."
   ]
  },
  {
   "cell_type": "code",
   "execution_count": 26,
   "id": "19dda682",
   "metadata": {},
   "outputs": [],
   "source": [
    "#return the number of wins for each team in the LEC league\n",
    "\n",
    "def display_wins_per_teams(df):\n",
    "    lec = df[df[\"league\"] == \"LEC\"]\n",
    "    blueside = lec.loc[lec[\"result\"] == 1][\"blueteam\"]\n",
    "    redside = lec.loc[lec[\"result\"] == 0][\"redteam\"]\n",
    "    frames = [redside, blueside]\n",
    "    return pd.concat(frames).value_counts()"
   ]
  },
  {
   "cell_type": "code",
   "execution_count": 27,
   "id": "6ebe6022",
   "metadata": {},
   "outputs": [
    {
     "ename": "TypeError",
     "evalue": "string indices must be integers",
     "output_type": "error",
     "traceback": [
      "\u001b[0;31m---------------------------------------------------------------------------\u001b[0m",
      "\u001b[0;31mTypeError\u001b[0m                                 Traceback (most recent call last)",
      "\u001b[1;32m/Users/vzhang/Project/workshop/ia-pandas-zvillon/1.league_of_legends_analysis.ipynb Cellule 37\u001b[0m line \u001b[0;36m1\n\u001b[0;32m----> <a href='vscode-notebook-cell:/Users/vzhang/Project/workshop/ia-pandas-zvillon/1.league_of_legends_analysis.ipynb#X51sZmlsZQ%3D%3D?line=0'>1</a>\u001b[0m display_wins_per_teams(data)\n",
      "\u001b[1;32m/Users/vzhang/Project/workshop/ia-pandas-zvillon/1.league_of_legends_analysis.ipynb Cellule 37\u001b[0m line \u001b[0;36m4\n\u001b[1;32m      <a href='vscode-notebook-cell:/Users/vzhang/Project/workshop/ia-pandas-zvillon/1.league_of_legends_analysis.ipynb#X51sZmlsZQ%3D%3D?line=2'>3</a>\u001b[0m \u001b[39mdef\u001b[39;00m \u001b[39mdisplay_wins_per_teams\u001b[39m(df):\n\u001b[0;32m----> <a href='vscode-notebook-cell:/Users/vzhang/Project/workshop/ia-pandas-zvillon/1.league_of_legends_analysis.ipynb#X51sZmlsZQ%3D%3D?line=3'>4</a>\u001b[0m     lec \u001b[39m=\u001b[39m df[df[\u001b[39m\"\u001b[39;49m\u001b[39mleague\u001b[39;49m\u001b[39m\"\u001b[39;49m] \u001b[39m==\u001b[39m \u001b[39m\"\u001b[39m\u001b[39mLEC\u001b[39m\u001b[39m\"\u001b[39m]\n\u001b[1;32m      <a href='vscode-notebook-cell:/Users/vzhang/Project/workshop/ia-pandas-zvillon/1.league_of_legends_analysis.ipynb#X51sZmlsZQ%3D%3D?line=4'>5</a>\u001b[0m     blueside \u001b[39m=\u001b[39m lec\u001b[39m.\u001b[39mloc[lec[\u001b[39m\"\u001b[39m\u001b[39mresult\u001b[39m\u001b[39m\"\u001b[39m] \u001b[39m==\u001b[39m \u001b[39m1\u001b[39m][\u001b[39m\"\u001b[39m\u001b[39mblueteam\u001b[39m\u001b[39m\"\u001b[39m]\n\u001b[1;32m      <a href='vscode-notebook-cell:/Users/vzhang/Project/workshop/ia-pandas-zvillon/1.league_of_legends_analysis.ipynb#X51sZmlsZQ%3D%3D?line=5'>6</a>\u001b[0m     redside \u001b[39m=\u001b[39m lec\u001b[39m.\u001b[39mloc[lec[\u001b[39m\"\u001b[39m\u001b[39mresult\u001b[39m\u001b[39m\"\u001b[39m] \u001b[39m==\u001b[39m \u001b[39m1\u001b[39m][\u001b[39m\"\u001b[39m\u001b[39mredteam\u001b[39m\u001b[39m\"\u001b[39m]\n",
      "\u001b[0;31mTypeError\u001b[0m: string indices must be integers"
     ]
    }
   ],
   "source": [
    "display_wins_per_teams(data)"
   ]
  },
  {
   "cell_type": "markdown",
   "id": "abd0406e",
   "metadata": {},
   "source": [
    "**Expected output :**\n",
    "\n",
    "`G2 Esports               48\n",
    " Fnatic                   34\n",
    " MAD Lions                31\n",
    " Rogue                    31\n",
    " Origen                   24\n",
    " FC Schalke 04 Esports    18\n",
    " Misfits Gaming           18\n",
    " Excel Esports            15\n",
    " SK Gaming                13\n",
    " Team Vitality             9\n",
    " dtype: int64`"
   ]
  },
  {
   "cell_type": "markdown",
   "id": "107140ef",
   "metadata": {},
   "source": [
    "### Counter\n",
    "\n",
    "What a team: G2!\n",
    "\n",
    "Aphelios was the most played champion in competition in 2020,\\\n",
    "in my research I noticed that Ezreal was the champion who was the most pick against Aphelios.\\\n",
    "Was this a good decision ?\n",
    "\n",
    "Calculate the winrate of Aphelios against Ezreal,\\\n",
    "Aphelios and Ezreal are champions that are usually played in the role of adc. \\\n",
    "Just use the `blueadc` and `redadc` columns and ```result``` for this exercise."
   ]
  },
  {
   "cell_type": "code",
   "execution_count": 29,
   "id": "0cca2db3",
   "metadata": {},
   "outputs": [],
   "source": [
    "def aphelios_vs_ezreal(df):\n",
    "    vs1 = df[df[\"blueadc\"] == \"Ezreal\"]\n",
    "    vs1 = vs1[vs1[\"redadc\"] == \"Aphelios\"]\n",
    "    vs2 = df[df[\"redadc\"] == \"Ezreal\"]\n",
    "    vs2 = vs2[vs2[\"blueadc\"] == \"Aphelios\"]\n",
    "    sol1 = vs1.loc[vs1[\"result\"] == 0]\n",
    "    sol2 = vs2.loc[vs2[\"result\"] == 1]\n",
    "    return (len(sol1) + len(sol2) / (len(vs1) + len(vs2)))"
   ]
  },
  {
   "cell_type": "code",
   "execution_count": 30,
   "id": "4a2c2086",
   "metadata": {},
   "outputs": [
    {
     "ename": "TypeError",
     "evalue": "string indices must be integers",
     "output_type": "error",
     "traceback": [
      "\u001b[0;31m---------------------------------------------------------------------------\u001b[0m",
      "\u001b[0;31mTypeError\u001b[0m                                 Traceback (most recent call last)",
      "\u001b[1;32m/Users/vzhang/Project/workshop/ia-pandas-zvillon/1.league_of_legends_analysis.ipynb Cellule 41\u001b[0m line \u001b[0;36m1\n\u001b[0;32m----> <a href='vscode-notebook-cell:/Users/vzhang/Project/workshop/ia-pandas-zvillon/1.league_of_legends_analysis.ipynb#X55sZmlsZQ%3D%3D?line=0'>1</a>\u001b[0m aphelios_vs_ezreal(data)\n",
      "\u001b[1;32m/Users/vzhang/Project/workshop/ia-pandas-zvillon/1.league_of_legends_analysis.ipynb Cellule 41\u001b[0m line \u001b[0;36m2\n\u001b[1;32m      <a href='vscode-notebook-cell:/Users/vzhang/Project/workshop/ia-pandas-zvillon/1.league_of_legends_analysis.ipynb#X55sZmlsZQ%3D%3D?line=0'>1</a>\u001b[0m \u001b[39mdef\u001b[39;00m \u001b[39maphelios_vs_ezreal\u001b[39m(df):\n\u001b[0;32m----> <a href='vscode-notebook-cell:/Users/vzhang/Project/workshop/ia-pandas-zvillon/1.league_of_legends_analysis.ipynb#X55sZmlsZQ%3D%3D?line=1'>2</a>\u001b[0m     vs1 \u001b[39m=\u001b[39m df[df[\u001b[39m\"\u001b[39;49m\u001b[39mblueadc\u001b[39;49m\u001b[39m\"\u001b[39;49m] \u001b[39m==\u001b[39m \u001b[39m\"\u001b[39m\u001b[39mEzreal\u001b[39m\u001b[39m\"\u001b[39m]\n\u001b[1;32m      <a href='vscode-notebook-cell:/Users/vzhang/Project/workshop/ia-pandas-zvillon/1.league_of_legends_analysis.ipynb#X55sZmlsZQ%3D%3D?line=2'>3</a>\u001b[0m     vs1 \u001b[39m=\u001b[39m vs1[vs1[\u001b[39m\"\u001b[39m\u001b[39mredadc\u001b[39m\u001b[39m\"\u001b[39m] \u001b[39m==\u001b[39m \u001b[39m\"\u001b[39m\u001b[39mAphelios\u001b[39m\u001b[39m\"\u001b[39m]\n\u001b[1;32m      <a href='vscode-notebook-cell:/Users/vzhang/Project/workshop/ia-pandas-zvillon/1.league_of_legends_analysis.ipynb#X55sZmlsZQ%3D%3D?line=3'>4</a>\u001b[0m     vs2 \u001b[39m=\u001b[39m df[df[\u001b[39m\"\u001b[39m\u001b[39mredadc\u001b[39m\u001b[39m\"\u001b[39m] \u001b[39m==\u001b[39m \u001b[39m\"\u001b[39m\u001b[39mEzreal\u001b[39m\u001b[39m\"\u001b[39m]\n",
      "\u001b[0;31mTypeError\u001b[0m: string indices must be integers"
     ]
    }
   ],
   "source": [
    "aphelios_vs_ezreal(data)"
   ]
  },
  {
   "cell_type": "markdown",
   "id": "856bcff6",
   "metadata": {},
   "source": [
    "**Expected output :** `0.528046421663443`"
   ]
  },
  {
   "cell_type": "markdown",
   "id": "7d57eea4",
   "metadata": {},
   "source": [
    "You have answered all my questions, well done.\\\n",
    "Now you are free to do your analysis.\n",
    "\n",
    "Why don't you try to see with which support Aphelios has the best winrate for example?"
   ]
  },
  {
   "cell_type": "code",
   "execution_count": null,
   "id": "f22450a5",
   "metadata": {},
   "outputs": [],
   "source": [
    "def name_this_function(df):\n",
    "    \"\"\"\n",
    "        You are free, process the data to try to get out indicators that can be interesting\n",
    "    \"\"\"\n",
    "    return None"
   ]
  },
  {
   "cell_type": "markdown",
   "id": "0ec43f54",
   "metadata": {},
   "source": [
    "## Well played\n",
    "\n",
    "You were able to see the basic operation of pandas.\\\n",
    "You now understand one of the basics of data science.\n",
    "\n",
    "Fortunately I thought about the brave people who would arrive there, a second topic is waiting for you on a dataset detailing the sale of video games in the world.\n",
    "\n",
    "<img src=\"./image/win.png\"/>"
   ]
  }
 ],
 "metadata": {
  "kernelspec": {
   "display_name": "Python 3 (ipykernel)",
   "language": "python",
   "name": "python3"
  },
  "language_info": {
   "codemirror_mode": {
    "name": "ipython",
    "version": 3
   },
   "file_extension": ".py",
   "mimetype": "text/x-python",
   "name": "python",
   "nbconvert_exporter": "python",
   "pygments_lexer": "ipython3",
   "version": "3.12.0"
  }
 },
 "nbformat": 4,
 "nbformat_minor": 5
}
